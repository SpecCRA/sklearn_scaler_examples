{
 "cells": [
  {
   "cell_type": "code",
   "execution_count": 11,
   "metadata": {},
   "outputs": [],
   "source": [
    "import numpy as np\n",
    "import pandas as pd\n",
    "from sklearn.preprocessing import StandardScaler\n",
    "from sklearn.preprocessing import MinMaxScaler"
   ]
  },
  {
   "cell_type": "markdown",
   "metadata": {},
   "source": [
    "Here's a link to the dataset: https://data.world/makeovermonday/2019w34"
   ]
  },
  {
   "cell_type": "code",
   "execution_count": 12,
   "metadata": {},
   "outputs": [],
   "source": [
    "# my file path, you will have to change it yourself if you want to runt his\n",
    "file = \"/Users/mini/makeover_monday_files/week_39/cellphone_use.csv\"\n",
    "df = pd.read_csv(file)"
   ]
  },
  {
   "cell_type": "code",
   "execution_count": 13,
   "metadata": {},
   "outputs": [
    {
     "data": {
      "text/html": [
       "<div>\n",
       "<style scoped>\n",
       "    .dataframe tbody tr th:only-of-type {\n",
       "        vertical-align: middle;\n",
       "    }\n",
       "\n",
       "    .dataframe tbody tr th {\n",
       "        vertical-align: top;\n",
       "    }\n",
       "\n",
       "    .dataframe thead th {\n",
       "        text-align: right;\n",
       "    }\n",
       "</style>\n",
       "<table border=\"1\" class=\"dataframe\">\n",
       "  <thead>\n",
       "    <tr style=\"text-align: right;\">\n",
       "      <th></th>\n",
       "      <th>question</th>\n",
       "      <th>respondent</th>\n",
       "      <th>response</th>\n",
       "      <th>frequency</th>\n",
       "    </tr>\n",
       "  </thead>\n",
       "  <tbody>\n",
       "    <tr>\n",
       "      <th>0</th>\n",
       "      <td>% of US teens/parents who say they spend too m...</td>\n",
       "      <td>Teens</td>\n",
       "      <td>0.54</td>\n",
       "      <td>na</td>\n",
       "    </tr>\n",
       "    <tr>\n",
       "      <th>1</th>\n",
       "      <td>% of US teens/parents who say they spend too m...</td>\n",
       "      <td>Parents</td>\n",
       "      <td>0.36</td>\n",
       "      <td>na</td>\n",
       "    </tr>\n",
       "    <tr>\n",
       "      <th>2</th>\n",
       "      <td>% of US teens/parents who say they check phone...</td>\n",
       "      <td>Teens</td>\n",
       "      <td>0.44</td>\n",
       "      <td>Often</td>\n",
       "    </tr>\n",
       "    <tr>\n",
       "      <th>3</th>\n",
       "      <td>% of US teens/parents who say they check phone...</td>\n",
       "      <td>Parents</td>\n",
       "      <td>0.26</td>\n",
       "      <td>Often</td>\n",
       "    </tr>\n",
       "    <tr>\n",
       "      <th>4</th>\n",
       "      <td>% of US teens/parents who say they check phone...</td>\n",
       "      <td>Teens</td>\n",
       "      <td>0.28</td>\n",
       "      <td>Sometimes</td>\n",
       "    </tr>\n",
       "  </tbody>\n",
       "</table>\n",
       "</div>"
      ],
      "text/plain": [
       "                                            question respondent  response  \\\n",
       "0  % of US teens/parents who say they spend too m...      Teens      0.54   \n",
       "1  % of US teens/parents who say they spend too m...    Parents      0.36   \n",
       "2  % of US teens/parents who say they check phone...      Teens      0.44   \n",
       "3  % of US teens/parents who say they check phone...    Parents      0.26   \n",
       "4  % of US teens/parents who say they check phone...      Teens      0.28   \n",
       "\n",
       "   frequency  \n",
       "0         na  \n",
       "1         na  \n",
       "2      Often  \n",
       "3      Often  \n",
       "4  Sometimes  "
      ]
     },
     "execution_count": 13,
     "metadata": {},
     "output_type": "execute_result"
    }
   ],
   "source": [
    "df.head()"
   ]
  },
  {
   "cell_type": "markdown",
   "metadata": {},
   "source": [
    "## Here are the raw values printed out."
   ]
  },
  {
   "cell_type": "code",
   "execution_count": 15,
   "metadata": {},
   "outputs": [
    {
     "data": {
      "text/plain": [
       "0     0.54\n",
       "1     0.36\n",
       "2     0.44\n",
       "3     0.26\n",
       "4     0.28\n",
       "5     0.32\n",
       "6     0.14\n",
       "7     0.30\n",
       "8     0.37\n",
       "9     0.42\n",
       "10    0.08\n",
       "11    0.15\n",
       "12    0.23\n",
       "13    0.24\n",
       "Name: response, dtype: float64"
      ]
     },
     "execution_count": 15,
     "metadata": {},
     "output_type": "execute_result"
    }
   ],
   "source": [
    "df.response"
   ]
  },
  {
   "cell_type": "markdown",
   "metadata": {},
   "source": [
    "## Here is the log 10 transformation"
   ]
  },
  {
   "cell_type": "code",
   "execution_count": 14,
   "metadata": {},
   "outputs": [
    {
     "name": "stdout",
     "output_type": "stream",
     "text": [
      "0    -0.616186\n",
      "1    -1.021651\n",
      "2    -0.820981\n",
      "3    -1.347074\n",
      "4    -1.272966\n",
      "5    -1.139434\n",
      "6    -1.966113\n",
      "7    -1.203973\n",
      "8    -0.994252\n",
      "9    -0.867501\n",
      "10   -2.525729\n",
      "11   -1.897120\n",
      "12   -1.469676\n",
      "13   -1.427116\n",
      "Name: response, dtype: float64\n"
     ]
    }
   ],
   "source": [
    "print(np.log(df.response))"
   ]
  },
  {
   "cell_type": "markdown",
   "metadata": {},
   "source": [
    "## StandardScaler example\n",
    "\n",
    "This transforms the data based on a normal distribution. So it will to z-scores. I had explained this incorrectly in our session."
   ]
  },
  {
   "cell_type": "code",
   "execution_count": 26,
   "metadata": {},
   "outputs": [],
   "source": [
    "reshaped_x = np.array(df.response).reshape(-1, 1)\n",
    "scaler = StandardScaler()\n",
    "ss_array = scaler.fit_transform(reshaped_x)\n",
    "#ss_array"
   ]
  },
  {
   "cell_type": "markdown",
   "metadata": {},
   "source": [
    "I found an explanation for why you need to reshape the data into a 2d array here. \n",
    "\n",
    "http://queirozf.com/entries/scikit-learn-cheatsheet-reference-and-examples#reshape-1-d-arrays"
   ]
  },
  {
   "cell_type": "code",
   "execution_count": null,
   "metadata": {},
   "outputs": [],
   "source": [
    "# X is a 1-d ndarray\n",
    "\n",
    "# you want a COLUMN vector (many samples, 1 feature)\n",
    "# X = X.reshape(-1,1)\n",
    "\n",
    "# you want a ROW vector (one sample, many features)\n",
    "# X = X.reshape(1,1)"
   ]
  },
  {
   "cell_type": "markdown",
   "metadata": {},
   "source": [
    "## MinMaxScaler example\n",
    "\n",
    "The largest value gets assigned 1, and the smallest gets assigned 0. The rest get scaled accordingly to the extent of the dataset."
   ]
  },
  {
   "cell_type": "code",
   "execution_count": 29,
   "metadata": {},
   "outputs": [
    {
     "data": {
      "text/plain": [
       "array([[1.        ],\n",
       "       [0.60869565],\n",
       "       [0.7826087 ],\n",
       "       [0.39130435],\n",
       "       [0.43478261],\n",
       "       [0.52173913],\n",
       "       [0.13043478],\n",
       "       [0.47826087],\n",
       "       [0.63043478],\n",
       "       [0.73913043],\n",
       "       [0.        ],\n",
       "       [0.15217391],\n",
       "       [0.32608696],\n",
       "       [0.34782609]])"
      ]
     },
     "execution_count": 29,
     "metadata": {},
     "output_type": "execute_result"
    }
   ],
   "source": [
    "scaler = MinMaxScaler()\n",
    "mm_array = scaler.fit_transform(reshaped_x)\n",
    "mm_array"
   ]
  }
 ],
 "metadata": {
  "kernelspec": {
   "display_name": "Python 3",
   "language": "python",
   "name": "python3"
  },
  "language_info": {
   "codemirror_mode": {
    "name": "ipython",
    "version": 3
   },
   "file_extension": ".py",
   "mimetype": "text/x-python",
   "name": "python",
   "nbconvert_exporter": "python",
   "pygments_lexer": "ipython3",
   "version": "3.6.9"
  }
 },
 "nbformat": 4,
 "nbformat_minor": 2
}
